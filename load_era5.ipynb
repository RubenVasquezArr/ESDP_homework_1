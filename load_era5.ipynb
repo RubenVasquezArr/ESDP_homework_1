{
 "cells": [
  {
   "cell_type": "markdown",
   "id": "4dd28121-3e2b-4e8c-b771-657a48d283c3",
   "metadata": {},
   "source": [
    "# Download ERA5 data for METFUT\n",
    "\n",
    "1. Understand the task: METFUT would like to train ML models on subsets of ERA5 data. For this, we should retrieve snapshots of individual variables on single model levels at 12-hourly resolution. The variable names/ids, model levels, and time ranges will be given to us.\n",
    "2. Read through the [ERA5 documentation](https://cds.climate.copernicus.eu/cdsapp#!/dataset/reanalysis-era5-complete?tab=form) to understand the data structure and identify, which data/access point we need.\n",
    "3. Install the CDS API.\n",
    "   * For this, we first need to register at [Copernicus Data Store](https://cds.climate.copernicus.eu/user/register?destination=%2F%23!%2Fhome).\n",
    "   * Next copy and store your API key in file ```$HOME/.cdsapirc```. You find it at the bottom of your personal profile when you are logged in the CDS. Format:\n",
    "```\n",
    "url: https://cds.climate.copernicus.eu/api/v2\n",
    "key: {uid}:{api-key}\n",
    "```\n",
    "   *Install the CDS API via ```pip install cdsapi```\n",
    "   * Read through the [instructions](https://cds.climate.copernicus.eu/api-how-to) on how to use the cdsapi (bottom half of web page))\n",
    "5.Browse through the [ERA5 data catalogue](https://apps.ecmwf.int/data-catalogues/era5/?class=ea) and select the fields you want to download.\n",
    "6. After composing your search, click on \"Show API request\" and copy the commands into your notebook.\n",
    "\n",
    "Please make sure to limit the download to 5.625 degree resolution and 12-hourly samples! Select Netcdf as output format. "
   ]
  },
  {
   "cell_type": "code",
   "execution_count": 1,
   "id": "d0a0efa4-16b2-4878-a86b-7f40e24e3fca",
   "metadata": {},
   "outputs": [],
   "source": [
    "# install modules\n",
    "#!pip install cdsapi\n",
    "#!pip install xarray"
   ]
  },
  {
   "cell_type": "markdown",
   "id": "b2b8bb7a-302f-420c-8fe4-7a603a774dff",
   "metadata": {},
   "source": [
    "__Note:__ The following works with the ipynb kernel, but not with the METCLOUD kernel. The first try might raise an error telling you that you must first accept the use conditions (follow the link at the bottom). Thereafter, it should work."
   ]
  },
  {
   "cell_type": "code",
   "execution_count": 2,
   "id": "3954d5c4-f5ec-4965-8ab3-429e01dbef84",
   "metadata": {},
   "outputs": [
    {
     "name": "stderr",
     "output_type": "stream",
     "text": [
      "2024-05-21 20:27:47,310 INFO Welcome to the CDS\n",
      "2024-05-21 20:27:47,317 INFO Sending request to https://cds.climate.copernicus.eu/api/v2/resources/reanalysis-era5-complete\n",
      "2024-05-21 20:27:47,673 INFO Request is queued\n",
      "2024-05-21 20:28:08,829 INFO Request is completed\n",
      "2024-05-21 20:28:08,831 INFO Downloading https://download-0017.copernicus-climate.eu/cache-compute-0017/cache/data5/adaptor.mars.external-1716316083.127147-21713-4-4b4684cc-af6b-4aac-8a6f-7ef2c6a4d503.grib to output (24.3M)\n",
      "2024-05-21 20:28:23,167 INFO Download rate 1.7M/s   \n"
     ]
    },
    {
     "data": {
      "text/plain": [
       "Result(content_length=25502894,content_type=application/x-grib,location=https://download-0017.copernicus-climate.eu/cache-compute-0017/cache/data5/adaptor.mars.external-1716316083.127147-21713-4-4b4684cc-af6b-4aac-8a6f-7ef2c6a4d503.grib)"
      ]
     },
     "execution_count": 2,
     "metadata": {},
     "output_type": "execute_result"
    }
   ],
   "source": [
    "# Exemplary MARS request after composing through the web interface\n",
    "# shortened from 1 month to 3 days\n",
    "import cdsapi\n",
    "\n",
    "c = cdsapi.Client()\n",
    "\n",
    "c.retrieve(\"reanalysis-era5-complete\", {\n",
    "    \"class\": \"ea\",\n",
    "    \"date\": \"2023-01-01/to/2023-01-31\",\n",
    "    \"expver\": \"1\",\n",
    "    \"levelist\": \"137\",\n",
    "    \"levtype\": \"ml\",\n",
    "    \"param\": \"130\",\n",
    "    \"step\": \"0\",\n",
    "    \"stream\": \"oper\",\n",
    "    \"time\": \"21:00:00\",\n",
    "    \"type\": \"4v\"\n",
    "}, \"output\")\n",
    "\n",
    "# if successful, you shall see a new file named ```output``` in your current directory.\n"
   ]
  },
  {
   "cell_type": "markdown",
   "id": "fe741e5b-7d5b-408a-a7d0-13589dd25de1",
   "metadata": {},
   "source": [
    "## Customize requests \n",
    "Now, we need to modify the request to obtain what we really want:\n",
    "* time 09:00 and 21:00\n",
    "* 5.625 degree resolution\n",
    "* Netcdf output\n",
    "\n",
    "Check the [Guidelines for efficient MARS requests](https://confluence.ecmwf.int/display/UDOC/Guidelines+to+write+efficient+MARS+requests) how to make these modifications."
   ]
  },
  {
   "cell_type": "markdown",
   "id": "cc0b27ea-b7b9-47bb-ab3a-f7fb43481792",
   "metadata": {},
   "source": [
    "Question: how to use \"list\" and \"output = cost\" in cdsapi?\n",
    "\n",
    "See also [MARS user documentation](https://confluence.ecmwf.int/display/UDOC/MARS+user+documentation)\n",
    "\n",
    "From efficiency guide: loop structure should be\n",
    "```\n",
    "date (outer loop)\n",
    "   time\n",
    "      step\n",
    "         number (EPS only)\n",
    "            level\n",
    "               parameter (inner loop)\n",
    "```\n",
    "Try to issue the MARS request at the highest level possible."
   ]
  },
  {
   "cell_type": "code",
   "execution_count": 3,
   "id": "e38e27ef-9350-4137-af4f-91059dca92f9",
   "metadata": {},
   "outputs": [
    {
     "name": "stderr",
     "output_type": "stream",
     "text": [
      "2024-05-21 20:28:23,313 INFO Welcome to the CDS\n",
      "2024-05-21 20:28:23,313 INFO Sending request to https://cds.climate.copernicus.eu/api/v2/resources/reanalysis-era5-complete\n"
     ]
    },
    {
     "name": "stderr",
     "output_type": "stream",
     "text": [
      "2024-05-21 20:28:23,441 INFO Request is queued\n",
      "2024-05-21 20:29:38,911 INFO Request is completed\n",
      "2024-05-21 20:29:38,913 INFO Downloading https://download-0008-clone.copernicus-climate.eu/cache-compute-0008/cache/data6/adaptor.mars.external-1716316176.4278162-24480-19-00e5f546-25c9-4d83-9d6b-b7f43e99545c.nc to test.nc (26.2K)\n",
      "2024-05-21 20:29:39,372 INFO Download rate 57.3K/s\n"
     ]
    },
    {
     "data": {
      "text/plain": [
       "Result(content_length=26864,content_type=application/x-netcdf,location=https://download-0008-clone.copernicus-climate.eu/cache-compute-0008/cache/data6/adaptor.mars.external-1716316176.4278162-24480-19-00e5f546-25c9-4d83-9d6b-b7f43e99545c.nc)"
      ]
     },
     "execution_count": 3,
     "metadata": {},
     "output_type": "execute_result"
    }
   ],
   "source": [
    "c.retrieve(\"reanalysis-era5-complete\", {\n",
    "    \"class\": \"ea\",\n",
    "    \"date\": \"2023-01-01/to/2023-01-03\",\n",
    "    \"expver\": \"1\",\n",
    "    \"levelist\": \"137\",\n",
    "    \"levtype\": \"ml\",\n",
    "    \"grid\": \"5.625/5.625\",\n",
    "    \"param\": \"130\",\n",
    "    \"step\": \"0\",\n",
    "    \"stream\": \"oper\",\n",
    "    \"time\": \"09:00:00/21:00:00\",\n",
    "    \"type\": \"4v\",\n",
    "    \"format\": \"netcdf\"\n",
    "}, \"test.nc\")"
   ]
  },
  {
   "cell_type": "code",
   "execution_count": 4,
   "id": "84942cfc",
   "metadata": {},
   "outputs": [
    {
     "name": "stderr",
     "output_type": "stream",
     "text": [
      "2024-05-21 20:29:39,490 INFO Welcome to the CDS\n",
      "2024-05-21 20:29:39,493 INFO Sending request to https://cds.climate.copernicus.eu/api/v2/resources/reanalysis-era5-complete\n"
     ]
    },
    {
     "name": "stderr",
     "output_type": "stream",
     "text": [
      "2024-05-21 20:29:39,828 INFO Request is queued\n",
      "2024-05-21 20:35:58,782 INFO Request is completed\n",
      "2024-05-21 20:35:58,783 INFO Downloading https://download-0014-clone.copernicus-climate.eu/cache-compute-0014/cache/data1/adaptor.mars.external-1716316510.5129008-25619-11-11eb2f9b-82a6-497a-ab66-eaac422d3189.nc to 01jan2023.nc (9.7K)\n",
      "2024-05-21 20:35:59,151 INFO Download rate 26.5K/s\n"
     ]
    },
    {
     "data": {
      "text/plain": [
       "Result(content_length=9948,content_type=application/x-netcdf,location=https://download-0014-clone.copernicus-climate.eu/cache-compute-0014/cache/data1/adaptor.mars.external-1716316510.5129008-25619-11-11eb2f9b-82a6-497a-ab66-eaac422d3189.nc)"
      ]
     },
     "execution_count": 4,
     "metadata": {},
     "output_type": "execute_result"
    }
   ],
   "source": [
    "#Now to dowload the January 1st, 2023 temperature field. \n",
    "\n",
    "c.retrieve(\"reanalysis-era5-complete\", {\n",
    "    \"class\": \"ea\",\n",
    "    \"date\": \"2023-01-01\",\n",
    "    \"expver\": \"1\",\n",
    "    \"levelist\": \"137\",\n",
    "    \"levtype\": \"ml\",\n",
    "    \"grid\": \"5.625/5.625\",\n",
    "    \"param\": \"130\",\n",
    "    \"step\": \"0\",\n",
    "    \"stream\": \"oper\",\n",
    "    \"time\": \"09:00:00/21:00:00\",\n",
    "    \"type\": \"4v\",\n",
    "    \"format\": \"netcdf\"\n",
    "}, \"01jan2023.nc\")"
   ]
  }
 ],
 "metadata": {
  "kernelspec": {
   "display_name": "Python 3 (ipykernel)",
   "language": "python",
   "name": "python3"
  },
  "language_info": {
   "codemirror_mode": {
    "name": "ipython",
    "version": 3
   },
   "file_extension": ".py",
   "mimetype": "text/x-python",
   "name": "python",
   "nbconvert_exporter": "python",
   "pygments_lexer": "ipython3",
   "version": "3.10.12"
  }
 },
 "nbformat": 4,
 "nbformat_minor": 5
}
